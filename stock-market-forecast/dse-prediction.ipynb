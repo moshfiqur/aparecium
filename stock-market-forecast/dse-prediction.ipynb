{
 "cells": [
  {
   "cell_type": "markdown",
   "metadata": {},
   "source": [
    "## Dhaka Stock Exchange (DSE) Price prediction\n",
    "\n",
    "Recently I have been working on time-series data a lot. I was thinking to get to know the very basics of LSTM. So, what can be better than trying to predict a stock price using LSTM. \n",
    "\n",
    "I have collected some data from [Dhaka Stock Exchange (DSE)][1]. The data were collected from their archive page. No csv export was available for downloading. I could only select dates and they generate the data as html. They have data until the year 2016. So, I tried to generate the data from 2016 until now but the website freezes when I try to generate so huge data. For that reason I ended up search and generate 3 set of data for 2016, 2017 and 2018. Later I saved the html files and parse the data and converted them into csv.\n",
    "\n",
    "[1]: https://www.dsebd.org/"
   ]
  },
  {
   "cell_type": "markdown",
   "metadata": {},
   "source": [
    "### Importing and initializations"
   ]
  },
  {
   "cell_type": "code",
   "execution_count": 55,
   "metadata": {},
   "outputs": [],
   "source": [
    "from bs4 import BeautifulSoup\n",
    "import traceback\n",
    "from datetime import datetime\n",
    "import re\n",
    "import os\n",
    "import pandas as pd\n",
    "import matplotlib.pyplot as plt\n",
    "import numpy as np\n",
    "import time\n",
    "from numpy import newaxis\n",
    "from keras.layers.core import Dense, Activation, Dropout\n",
    "from keras.layers.recurrent import LSTM\n",
    "from keras.models import Sequential\n",
    "from sklearn.preprocessing import MinMaxScaler\n",
    "\n",
    "import matplotlib.pyplot as plt\n",
    "import tensorflow as tf\n",
    "import numpy as np\n",
    "import pandas as pd\n",
    "import os\n",
    "from sklearn.preprocessing import MinMaxScaler\n",
    "\n",
    "from tensorflow.python.keras.models import Sequential\n",
    "from tensorflow.python.keras.layers import Input, Dense, GRU, Embedding, LSTM\n",
    "from tensorflow.python.keras.optimizers import RMSprop\n",
    "from tensorflow.python.keras.callbacks import EarlyStopping, ModelCheckpoint, TensorBoard, ReduceLROnPlateau\n",
    "\n",
    "%matplotlib inline"
   ]
  },
  {
   "cell_type": "code",
   "execution_count": 2,
   "metadata": {},
   "outputs": [],
   "source": [
    "ROOT_DIR = '/Users/sparrow/Learning/machine-learning/dse-prediction'\n",
    "MODELS_DIR = os.path.join(ROOT_DIR, 'models')\n",
    "DATASET_DIR = '/srv/downloads/moshfiqur-ml-datasets/dse'"
   ]
  },
  {
   "cell_type": "markdown",
   "metadata": {},
   "source": [
    "### Data preparations\n",
    "\n",
    "I have saved the data with name like `dse_data_2017.html`. We will loop over all the html files and put their content in a dictionary."
   ]
  },
  {
   "cell_type": "code",
   "execution_count": 3,
   "metadata": {},
   "outputs": [],
   "source": [
    "years = [2016, 2017, 2018]\n",
    "html_content = {}\n",
    "\n",
    "for year in years:\n",
    "    with open(os.path.join(DATASET_DIR, 'raw', 'dse_data_{}.html'.format(year))) as f:\n",
    "        html_content[year] = f.read()"
   ]
  },
  {
   "cell_type": "code",
   "execution_count": 4,
   "metadata": {},
   "outputs": [
    {
     "data": {
      "text/plain": [
       "86933558"
      ]
     },
     "execution_count": 4,
     "metadata": {},
     "output_type": "execute_result"
    }
   ],
   "source": [
    "len(html_content[2018])"
   ]
  },
  {
   "cell_type": "markdown",
   "metadata": {},
   "source": [
    "All available columns in the data. Here are some explanations:\n",
    "```\n",
    "SERIAL: Just a serial number of the data.\n",
    "DATE: Date of the data collected.\n",
    "TRADING CODE: Company short code name.\n",
    "LTP: Last trading price.\n",
    "HIGH: Highest price in that day.\n",
    "LOW: Lowest price in that day. \n",
    "OPENP: Open price in that day.\n",
    "CLOSEP: Close price in that day.\n",
    "YCP: Yesterday's closing price.\n",
    "TRADE: Total number of share traded.\n",
    "VALUE_MN: Total value in millions\n",
    "VOLUME_ME: Total volume in millions\n",
    "```"
   ]
  },
  {
   "cell_type": "code",
   "execution_count": 5,
   "metadata": {},
   "outputs": [],
   "source": [
    "columns = ['SERIAL', 'DATE', 'TRADING CODE', 'LTP', 'HIGH', 'LOW', \n",
    "           'OPENP', 'CLOSEP', 'YCP', 'TRADE', 'VALUE_MN', 'VOLUME_MN']"
   ]
  },
  {
   "cell_type": "markdown",
   "metadata": {},
   "source": [
    "### Parse the html files"
   ]
  },
  {
   "cell_type": "code",
   "execution_count": 6,
   "metadata": {},
   "outputs": [
    {
     "name": "stdout",
     "output_type": "stream",
     "text": [
      "Processing data for the year 2016\n",
      "Total 8 script tags were removed\n",
      "Data list length: 67539\n",
      "**********\n",
      "Processing data for the year 2017\n",
      "Total 8 script tags were removed\n",
      "Data list length: 131530\n",
      "**********\n",
      "Processing data for the year 2018\n",
      "Total 8 script tags were removed\n",
      "Data list length: 209659\n",
      "**********\n"
     ]
    }
   ],
   "source": [
    "data_list = []\n",
    "\n",
    "for year, html in html_content.items():\n",
    "    print('Processing data for the year {}'.format(year))\n",
    "    \n",
    "    soup = BeautifulSoup(html, 'lxml')\n",
    "    \n",
    "    # Remove and throw away all <script> tags and content from data\n",
    "    _ = [s.extract() for s in soup('script')]\n",
    "    print('Total {} script tags were removed'.format(len(_)))\n",
    "    \n",
    "    # Find all the tables, the 363th table is the \n",
    "    # original data table :D \n",
    "    tables = soup.find_all('table')\n",
    "    if not tables[363]:\n",
    "        print('Did not find the data table on index 363')\n",
    "        break\n",
    "    data_table = tables[363]\n",
    "    \n",
    "    # Loop through all the rows skipping the first one\n",
    "    # as the first one contains the table header\n",
    "    is_first = True\n",
    "    for row in data_table.find_all('tr'):\n",
    "        if is_first:\n",
    "            is_first = False\n",
    "            continue\n",
    "\n",
    "        # Strip the comma's so we can treat them as numbers\n",
    "        cells = [c.text.strip().replace(',', '') for c in row.find_all('td')]\n",
    "\n",
    "        data_list.append(cells)\n",
    "    \n",
    "    is_first = True\n",
    "    print('Data list length: {}'.format(len(data_list)))\n",
    "    print('*'*10)"
   ]
  },
  {
   "cell_type": "markdown",
   "metadata": {},
   "source": [
    "### Convert the parsed data into DataFrame"
   ]
  },
  {
   "cell_type": "code",
   "execution_count": 7,
   "metadata": {},
   "outputs": [],
   "source": [
    "df_orig = pd.DataFrame.from_records(data_list, columns=columns)"
   ]
  },
  {
   "cell_type": "code",
   "execution_count": 8,
   "metadata": {},
   "outputs": [
    {
     "data": {
      "text/html": [
       "<div>\n",
       "<style>\n",
       "    .dataframe thead tr:only-child th {\n",
       "        text-align: right;\n",
       "    }\n",
       "\n",
       "    .dataframe thead th {\n",
       "        text-align: left;\n",
       "    }\n",
       "\n",
       "    .dataframe tbody tr th {\n",
       "        vertical-align: top;\n",
       "    }\n",
       "</style>\n",
       "<table border=\"1\" class=\"dataframe\">\n",
       "  <thead>\n",
       "    <tr style=\"text-align: right;\">\n",
       "      <th></th>\n",
       "      <th>SERIAL</th>\n",
       "      <th>DATE</th>\n",
       "      <th>TRADING CODE</th>\n",
       "      <th>LTP</th>\n",
       "      <th>HIGH</th>\n",
       "      <th>LOW</th>\n",
       "      <th>OPENP</th>\n",
       "      <th>CLOSEP</th>\n",
       "      <th>YCP</th>\n",
       "      <th>TRADE</th>\n",
       "      <th>VALUE_MN</th>\n",
       "      <th>VOLUME_MN</th>\n",
       "    </tr>\n",
       "  </thead>\n",
       "  <tbody>\n",
       "    <tr>\n",
       "      <th>0</th>\n",
       "      <td>1</td>\n",
       "      <td>2016-12-29</td>\n",
       "      <td>1JANATAMF</td>\n",
       "      <td>5.8</td>\n",
       "      <td>6.2</td>\n",
       "      <td>5.8</td>\n",
       "      <td>6.2</td>\n",
       "      <td>5.9</td>\n",
       "      <td>6.2</td>\n",
       "      <td>443</td>\n",
       "      <td>26.409</td>\n",
       "      <td>4427760</td>\n",
       "    </tr>\n",
       "    <tr>\n",
       "      <th>1</th>\n",
       "      <td>2</td>\n",
       "      <td>2016-12-28</td>\n",
       "      <td>1JANATAMF</td>\n",
       "      <td>6.2</td>\n",
       "      <td>6.4</td>\n",
       "      <td>6</td>\n",
       "      <td>6.1</td>\n",
       "      <td>6.2</td>\n",
       "      <td>5.9</td>\n",
       "      <td>576</td>\n",
       "      <td>40.639</td>\n",
       "      <td>6503967</td>\n",
       "    </tr>\n",
       "    <tr>\n",
       "      <th>2</th>\n",
       "      <td>3</td>\n",
       "      <td>2016-12-27</td>\n",
       "      <td>1JANATAMF</td>\n",
       "      <td>5.9</td>\n",
       "      <td>5.9</td>\n",
       "      <td>5.4</td>\n",
       "      <td>5.4</td>\n",
       "      <td>5.9</td>\n",
       "      <td>5.4</td>\n",
       "      <td>385</td>\n",
       "      <td>32.014</td>\n",
       "      <td>5650124</td>\n",
       "    </tr>\n",
       "    <tr>\n",
       "      <th>3</th>\n",
       "      <td>4</td>\n",
       "      <td>2016-12-26</td>\n",
       "      <td>1JANATAMF</td>\n",
       "      <td>5.3</td>\n",
       "      <td>5.4</td>\n",
       "      <td>5.2</td>\n",
       "      <td>5.2</td>\n",
       "      <td>5.4</td>\n",
       "      <td>5.2</td>\n",
       "      <td>133</td>\n",
       "      <td>10.447</td>\n",
       "      <td>1966696</td>\n",
       "    </tr>\n",
       "    <tr>\n",
       "      <th>4</th>\n",
       "      <td>5</td>\n",
       "      <td>2016-12-22</td>\n",
       "      <td>1JANATAMF</td>\n",
       "      <td>5.2</td>\n",
       "      <td>5.3</td>\n",
       "      <td>5.1</td>\n",
       "      <td>5.1</td>\n",
       "      <td>5.2</td>\n",
       "      <td>5.1</td>\n",
       "      <td>111</td>\n",
       "      <td>9.652</td>\n",
       "      <td>1857034</td>\n",
       "    </tr>\n",
       "  </tbody>\n",
       "</table>\n",
       "</div>"
      ],
      "text/plain": [
       "  SERIAL        DATE TRADING CODE  LTP HIGH  LOW OPENP CLOSEP  YCP TRADE  \\\n",
       "0      1  2016-12-29    1JANATAMF  5.8  6.2  5.8   6.2    5.9  6.2   443   \n",
       "1      2  2016-12-28    1JANATAMF  6.2  6.4    6   6.1    6.2  5.9   576   \n",
       "2      3  2016-12-27    1JANATAMF  5.9  5.9  5.4   5.4    5.9  5.4   385   \n",
       "3      4  2016-12-26    1JANATAMF  5.3  5.4  5.2   5.2    5.4  5.2   133   \n",
       "4      5  2016-12-22    1JANATAMF  5.2  5.3  5.1   5.1    5.2  5.1   111   \n",
       "\n",
       "  VALUE_MN VOLUME_MN  \n",
       "0   26.409   4427760  \n",
       "1   40.639   6503967  \n",
       "2   32.014   5650124  \n",
       "3   10.447   1966696  \n",
       "4    9.652   1857034  "
      ]
     },
     "execution_count": 8,
     "metadata": {},
     "output_type": "execute_result"
    }
   ],
   "source": [
    "df_orig.head()"
   ]
  },
  {
   "cell_type": "code",
   "execution_count": 9,
   "metadata": {},
   "outputs": [],
   "source": [
    "if 'SERIAL' in df_orig.columns:\n",
    "    df_orig.drop(['SERIAL'], axis=1, inplace=True)"
   ]
  },
  {
   "cell_type": "markdown",
   "metadata": {},
   "source": [
    "Fixing a weird missing string NoneType value problem in HIGH column"
   ]
  },
  {
   "cell_type": "code",
   "execution_count": 10,
   "metadata": {},
   "outputs": [],
   "source": [
    "df_orig['HIGH'].fillna(0, inplace=True)\n",
    "df_orig['TRADE'].fillna(0, inplace=True)\n",
    "df_orig['VOLUME_MN'].fillna(0, inplace=True)\n",
    "\n",
    "high_values = []\n",
    "for value in df_orig['HIGH']:\n",
    "    try:\n",
    "        high_values.append(float(value))\n",
    "    except ValueError:\n",
    "        high_values.append(0.0)\n",
    "        continue\n",
    "\n",
    "df_orig['HIGH'] = high_values\n",
    "\n",
    "trade_values = []\n",
    "for value in df_orig['TRADE']:\n",
    "    try:\n",
    "        trade_values.append(float(value))\n",
    "    except ValueError:\n",
    "        trade_values.append(0)\n",
    "        continue\n",
    "\n",
    "df_orig['TRADE'] = trade_values\n",
    "\n",
    "volume_values = []\n",
    "for value in df_orig['VOLUME_MN']:\n",
    "    try:\n",
    "        volume_values.append(float(value))\n",
    "    except ValueError:\n",
    "        volume_values.append(0)\n",
    "        continue\n",
    "\n",
    "df_orig['VOLUME_MN'] = volume_values"
   ]
  },
  {
   "cell_type": "markdown",
   "metadata": {},
   "source": [
    "Converting the data into their appropriate data types"
   ]
  },
  {
   "cell_type": "code",
   "execution_count": 11,
   "metadata": {},
   "outputs": [],
   "source": [
    "df_orig[['LTP']] = df_orig[['LTP']].astype(float)\n",
    "df_orig['HIGH'] = df_orig['HIGH'].astype(float)\n",
    "df_orig[['LOW']] = df_orig[['LOW']].astype(float)\n",
    "df_orig[['OPENP']] = df_orig[['OPENP']].astype(float)\n",
    "df_orig[['CLOSEP']] = df_orig[['CLOSEP']].astype(float)\n",
    "df_orig[['YCP']] = df_orig[['YCP']].astype(float)\n",
    "df_orig[['VALUE_MN']] = df_orig[['VALUE_MN']].astype(float)\n",
    "\n",
    "df_orig[['DATE']] = df_orig[['DATE']].astype(datetime)\n",
    "\n",
    "df_orig['TRADE'] = df_orig['TRADE'].astype(int)\n",
    "df_orig['VOLUME_MN'] = df_orig['VOLUME_MN'].astype(int)"
   ]
  },
  {
   "cell_type": "code",
   "execution_count": 12,
   "metadata": {},
   "outputs": [
    {
     "data": {
      "text/plain": [
       "(209659, 11)"
      ]
     },
     "execution_count": 12,
     "metadata": {},
     "output_type": "execute_result"
    }
   ],
   "source": [
    "df_orig.shape"
   ]
  },
  {
   "cell_type": "code",
   "execution_count": 13,
   "metadata": {},
   "outputs": [
    {
     "data": {
      "text/plain": [
       "DATE             object\n",
       "TRADING CODE     object\n",
       "LTP             float64\n",
       "HIGH            float64\n",
       "LOW             float64\n",
       "OPENP           float64\n",
       "CLOSEP          float64\n",
       "YCP             float64\n",
       "TRADE             int64\n",
       "VALUE_MN        float64\n",
       "VOLUME_MN         int64\n",
       "dtype: object"
      ]
     },
     "execution_count": 13,
     "metadata": {},
     "output_type": "execute_result"
    }
   ],
   "source": [
    "df_orig.dtypes"
   ]
  },
  {
   "cell_type": "markdown",
   "metadata": {},
   "source": [
    "There are some junk instrument names which has always 0 values. We won't consider them"
   ]
  },
  {
   "cell_type": "code",
   "execution_count": 14,
   "metadata": {},
   "outputs": [],
   "source": [
    "df_orig = df_orig[(df_orig['LTP'] > 0) & \n",
    "                  (df_orig['HIGH'] > 0) & \n",
    "                  (df_orig['LOW'] > 0) & \n",
    "                  (df_orig['OPENP'] > 0)]"
   ]
  },
  {
   "cell_type": "markdown",
   "metadata": {},
   "source": [
    "Lets check the dataframe shapes after dropping unnecessary rows"
   ]
  },
  {
   "cell_type": "code",
   "execution_count": 15,
   "metadata": {},
   "outputs": [
    {
     "data": {
      "text/plain": [
       "(176848, 11)"
      ]
     },
     "execution_count": 15,
     "metadata": {},
     "output_type": "execute_result"
    }
   ],
   "source": [
    "df_orig.shape"
   ]
  },
  {
   "cell_type": "code",
   "execution_count": 16,
   "metadata": {},
   "outputs": [
    {
     "data": {
      "text/html": [
       "<div>\n",
       "<style>\n",
       "    .dataframe thead tr:only-child th {\n",
       "        text-align: right;\n",
       "    }\n",
       "\n",
       "    .dataframe thead th {\n",
       "        text-align: left;\n",
       "    }\n",
       "\n",
       "    .dataframe tbody tr th {\n",
       "        vertical-align: top;\n",
       "    }\n",
       "</style>\n",
       "<table border=\"1\" class=\"dataframe\">\n",
       "  <thead>\n",
       "    <tr style=\"text-align: right;\">\n",
       "      <th></th>\n",
       "      <th>DATE</th>\n",
       "      <th>TRADING CODE</th>\n",
       "      <th>LTP</th>\n",
       "      <th>HIGH</th>\n",
       "      <th>LOW</th>\n",
       "      <th>OPENP</th>\n",
       "      <th>CLOSEP</th>\n",
       "      <th>YCP</th>\n",
       "      <th>TRADE</th>\n",
       "      <th>VALUE_MN</th>\n",
       "      <th>VOLUME_MN</th>\n",
       "    </tr>\n",
       "  </thead>\n",
       "  <tbody>\n",
       "    <tr>\n",
       "      <th>0</th>\n",
       "      <td>2016-12-29</td>\n",
       "      <td>1JANATAMF</td>\n",
       "      <td>5.8</td>\n",
       "      <td>6.2</td>\n",
       "      <td>5.8</td>\n",
       "      <td>6.2</td>\n",
       "      <td>5.9</td>\n",
       "      <td>6.2</td>\n",
       "      <td>443</td>\n",
       "      <td>26.409</td>\n",
       "      <td>4427760</td>\n",
       "    </tr>\n",
       "    <tr>\n",
       "      <th>1</th>\n",
       "      <td>2016-12-28</td>\n",
       "      <td>1JANATAMF</td>\n",
       "      <td>6.2</td>\n",
       "      <td>6.4</td>\n",
       "      <td>6.0</td>\n",
       "      <td>6.1</td>\n",
       "      <td>6.2</td>\n",
       "      <td>5.9</td>\n",
       "      <td>576</td>\n",
       "      <td>40.639</td>\n",
       "      <td>6503967</td>\n",
       "    </tr>\n",
       "    <tr>\n",
       "      <th>2</th>\n",
       "      <td>2016-12-27</td>\n",
       "      <td>1JANATAMF</td>\n",
       "      <td>5.9</td>\n",
       "      <td>5.9</td>\n",
       "      <td>5.4</td>\n",
       "      <td>5.4</td>\n",
       "      <td>5.9</td>\n",
       "      <td>5.4</td>\n",
       "      <td>385</td>\n",
       "      <td>32.014</td>\n",
       "      <td>5650124</td>\n",
       "    </tr>\n",
       "    <tr>\n",
       "      <th>3</th>\n",
       "      <td>2016-12-26</td>\n",
       "      <td>1JANATAMF</td>\n",
       "      <td>5.3</td>\n",
       "      <td>5.4</td>\n",
       "      <td>5.2</td>\n",
       "      <td>5.2</td>\n",
       "      <td>5.4</td>\n",
       "      <td>5.2</td>\n",
       "      <td>133</td>\n",
       "      <td>10.447</td>\n",
       "      <td>1966696</td>\n",
       "    </tr>\n",
       "    <tr>\n",
       "      <th>4</th>\n",
       "      <td>2016-12-22</td>\n",
       "      <td>1JANATAMF</td>\n",
       "      <td>5.2</td>\n",
       "      <td>5.3</td>\n",
       "      <td>5.1</td>\n",
       "      <td>5.1</td>\n",
       "      <td>5.2</td>\n",
       "      <td>5.1</td>\n",
       "      <td>111</td>\n",
       "      <td>9.652</td>\n",
       "      <td>1857034</td>\n",
       "    </tr>\n",
       "  </tbody>\n",
       "</table>\n",
       "</div>"
      ],
      "text/plain": [
       "         DATE TRADING CODE  LTP  HIGH  LOW  OPENP  CLOSEP  YCP  TRADE  \\\n",
       "0  2016-12-29    1JANATAMF  5.8   6.2  5.8    6.2     5.9  6.2    443   \n",
       "1  2016-12-28    1JANATAMF  6.2   6.4  6.0    6.1     6.2  5.9    576   \n",
       "2  2016-12-27    1JANATAMF  5.9   5.9  5.4    5.4     5.9  5.4    385   \n",
       "3  2016-12-26    1JANATAMF  5.3   5.4  5.2    5.2     5.4  5.2    133   \n",
       "4  2016-12-22    1JANATAMF  5.2   5.3  5.1    5.1     5.2  5.1    111   \n",
       "\n",
       "   VALUE_MN  VOLUME_MN  \n",
       "0    26.409    4427760  \n",
       "1    40.639    6503967  \n",
       "2    32.014    5650124  \n",
       "3    10.447    1966696  \n",
       "4     9.652    1857034  "
      ]
     },
     "execution_count": 16,
     "metadata": {},
     "output_type": "execute_result"
    }
   ],
   "source": [
    "df_orig.head()"
   ]
  },
  {
   "cell_type": "markdown",
   "metadata": {},
   "source": [
    "### Save the dataframe as csv"
   ]
  },
  {
   "cell_type": "code",
   "execution_count": 17,
   "metadata": {},
   "outputs": [],
   "source": [
    "if False:\n",
    "    df_orig.to_csv(os.path.join(DATASET_DIR, 'processed', 'data.csv'), index=False)"
   ]
  },
  {
   "cell_type": "code",
   "execution_count": 18,
   "metadata": {},
   "outputs": [],
   "source": [
    "df_companies = pd.DataFrame(df_orig['TRADING CODE'].unique(), columns=['TRADING CODE'])"
   ]
  },
  {
   "cell_type": "code",
   "execution_count": 19,
   "metadata": {},
   "outputs": [
    {
     "data": {
      "text/html": [
       "<div>\n",
       "<style>\n",
       "    .dataframe thead tr:only-child th {\n",
       "        text-align: right;\n",
       "    }\n",
       "\n",
       "    .dataframe thead th {\n",
       "        text-align: left;\n",
       "    }\n",
       "\n",
       "    .dataframe tbody tr th {\n",
       "        vertical-align: top;\n",
       "    }\n",
       "</style>\n",
       "<table border=\"1\" class=\"dataframe\">\n",
       "  <thead>\n",
       "    <tr style=\"text-align: right;\">\n",
       "      <th></th>\n",
       "      <th>TRADING CODE</th>\n",
       "    </tr>\n",
       "  </thead>\n",
       "  <tbody>\n",
       "    <tr>\n",
       "      <th>0</th>\n",
       "      <td>1JANATAMF</td>\n",
       "    </tr>\n",
       "    <tr>\n",
       "      <th>1</th>\n",
       "      <td>1STPRIMFMF</td>\n",
       "    </tr>\n",
       "    <tr>\n",
       "      <th>2</th>\n",
       "      <td>3RDICB</td>\n",
       "    </tr>\n",
       "    <tr>\n",
       "      <th>3</th>\n",
       "      <td>4THICB</td>\n",
       "    </tr>\n",
       "    <tr>\n",
       "      <th>4</th>\n",
       "      <td>5THICB</td>\n",
       "    </tr>\n",
       "  </tbody>\n",
       "</table>\n",
       "</div>"
      ],
      "text/plain": [
       "  TRADING CODE\n",
       "0    1JANATAMF\n",
       "1   1STPRIMFMF\n",
       "2       3RDICB\n",
       "3       4THICB\n",
       "4       5THICB"
      ]
     },
     "execution_count": 19,
     "metadata": {},
     "output_type": "execute_result"
    }
   ],
   "source": [
    "df_companies.head()"
   ]
  },
  {
   "cell_type": "code",
   "execution_count": 20,
   "metadata": {},
   "outputs": [],
   "source": [
    "if False:\n",
    "    df_companies.to_csv(os.path.join(DATASET_DIR, 'processed', 'companies.csv'), index=False)"
   ]
  },
  {
   "cell_type": "markdown",
   "metadata": {},
   "source": [
    "### Load data from csv"
   ]
  },
  {
   "cell_type": "code",
   "execution_count": 21,
   "metadata": {},
   "outputs": [],
   "source": [
    "df = pd.read_csv(os.path.join(DATASET_DIR, 'processed', 'data.csv'), encoding='utf-8', low_memory=False)\n",
    "df_companies = pd.read_csv(os.path.join(DATASET_DIR, 'processed', 'companies.csv'), encoding='utf-8', low_memory=False)"
   ]
  },
  {
   "cell_type": "code",
   "execution_count": 22,
   "metadata": {},
   "outputs": [
    {
     "data": {
      "text/html": [
       "<div>\n",
       "<style>\n",
       "    .dataframe thead tr:only-child th {\n",
       "        text-align: right;\n",
       "    }\n",
       "\n",
       "    .dataframe thead th {\n",
       "        text-align: left;\n",
       "    }\n",
       "\n",
       "    .dataframe tbody tr th {\n",
       "        vertical-align: top;\n",
       "    }\n",
       "</style>\n",
       "<table border=\"1\" class=\"dataframe\">\n",
       "  <thead>\n",
       "    <tr style=\"text-align: right;\">\n",
       "      <th></th>\n",
       "      <th>DATE</th>\n",
       "      <th>TRADING CODE</th>\n",
       "      <th>LTP</th>\n",
       "      <th>HIGH</th>\n",
       "      <th>LOW</th>\n",
       "      <th>OPENP</th>\n",
       "      <th>CLOSEP</th>\n",
       "      <th>YCP</th>\n",
       "      <th>TRADE</th>\n",
       "      <th>VALUE_MN</th>\n",
       "      <th>VOLUME_MN</th>\n",
       "    </tr>\n",
       "  </thead>\n",
       "  <tbody>\n",
       "    <tr>\n",
       "      <th>0</th>\n",
       "      <td>2016-12-29</td>\n",
       "      <td>1JANATAMF</td>\n",
       "      <td>5.8</td>\n",
       "      <td>6.2</td>\n",
       "      <td>5.8</td>\n",
       "      <td>6.2</td>\n",
       "      <td>5.9</td>\n",
       "      <td>6.2</td>\n",
       "      <td>443</td>\n",
       "      <td>26.409</td>\n",
       "      <td>4427760</td>\n",
       "    </tr>\n",
       "    <tr>\n",
       "      <th>1</th>\n",
       "      <td>2016-12-28</td>\n",
       "      <td>1JANATAMF</td>\n",
       "      <td>6.2</td>\n",
       "      <td>6.4</td>\n",
       "      <td>6.0</td>\n",
       "      <td>6.1</td>\n",
       "      <td>6.2</td>\n",
       "      <td>5.9</td>\n",
       "      <td>576</td>\n",
       "      <td>40.639</td>\n",
       "      <td>6503967</td>\n",
       "    </tr>\n",
       "    <tr>\n",
       "      <th>2</th>\n",
       "      <td>2016-12-27</td>\n",
       "      <td>1JANATAMF</td>\n",
       "      <td>5.9</td>\n",
       "      <td>5.9</td>\n",
       "      <td>5.4</td>\n",
       "      <td>5.4</td>\n",
       "      <td>5.9</td>\n",
       "      <td>5.4</td>\n",
       "      <td>385</td>\n",
       "      <td>32.014</td>\n",
       "      <td>5650124</td>\n",
       "    </tr>\n",
       "    <tr>\n",
       "      <th>3</th>\n",
       "      <td>2016-12-26</td>\n",
       "      <td>1JANATAMF</td>\n",
       "      <td>5.3</td>\n",
       "      <td>5.4</td>\n",
       "      <td>5.2</td>\n",
       "      <td>5.2</td>\n",
       "      <td>5.4</td>\n",
       "      <td>5.2</td>\n",
       "      <td>133</td>\n",
       "      <td>10.447</td>\n",
       "      <td>1966696</td>\n",
       "    </tr>\n",
       "    <tr>\n",
       "      <th>4</th>\n",
       "      <td>2016-12-22</td>\n",
       "      <td>1JANATAMF</td>\n",
       "      <td>5.2</td>\n",
       "      <td>5.3</td>\n",
       "      <td>5.1</td>\n",
       "      <td>5.1</td>\n",
       "      <td>5.2</td>\n",
       "      <td>5.1</td>\n",
       "      <td>111</td>\n",
       "      <td>9.652</td>\n",
       "      <td>1857034</td>\n",
       "    </tr>\n",
       "  </tbody>\n",
       "</table>\n",
       "</div>"
      ],
      "text/plain": [
       "         DATE TRADING CODE  LTP  HIGH  LOW  OPENP  CLOSEP  YCP  TRADE  \\\n",
       "0  2016-12-29    1JANATAMF  5.8   6.2  5.8    6.2     5.9  6.2    443   \n",
       "1  2016-12-28    1JANATAMF  6.2   6.4  6.0    6.1     6.2  5.9    576   \n",
       "2  2016-12-27    1JANATAMF  5.9   5.9  5.4    5.4     5.9  5.4    385   \n",
       "3  2016-12-26    1JANATAMF  5.3   5.4  5.2    5.2     5.4  5.2    133   \n",
       "4  2016-12-22    1JANATAMF  5.2   5.3  5.1    5.1     5.2  5.1    111   \n",
       "\n",
       "   VALUE_MN  VOLUME_MN  \n",
       "0    26.409    4427760  \n",
       "1    40.639    6503967  \n",
       "2    32.014    5650124  \n",
       "3    10.447    1966696  \n",
       "4     9.652    1857034  "
      ]
     },
     "execution_count": 22,
     "metadata": {},
     "output_type": "execute_result"
    }
   ],
   "source": [
    "df.head()"
   ]
  },
  {
   "cell_type": "code",
   "execution_count": 23,
   "metadata": {},
   "outputs": [
    {
     "data": {
      "text/html": [
       "<div>\n",
       "<style>\n",
       "    .dataframe thead tr:only-child th {\n",
       "        text-align: right;\n",
       "    }\n",
       "\n",
       "    .dataframe thead th {\n",
       "        text-align: left;\n",
       "    }\n",
       "\n",
       "    .dataframe tbody tr th {\n",
       "        vertical-align: top;\n",
       "    }\n",
       "</style>\n",
       "<table border=\"1\" class=\"dataframe\">\n",
       "  <thead>\n",
       "    <tr style=\"text-align: right;\">\n",
       "      <th></th>\n",
       "      <th>TRADING CODE</th>\n",
       "    </tr>\n",
       "  </thead>\n",
       "  <tbody>\n",
       "    <tr>\n",
       "      <th>0</th>\n",
       "      <td>1JANATAMF</td>\n",
       "    </tr>\n",
       "    <tr>\n",
       "      <th>1</th>\n",
       "      <td>1STPRIMFMF</td>\n",
       "    </tr>\n",
       "    <tr>\n",
       "      <th>2</th>\n",
       "      <td>3RDICB</td>\n",
       "    </tr>\n",
       "    <tr>\n",
       "      <th>3</th>\n",
       "      <td>4THICB</td>\n",
       "    </tr>\n",
       "    <tr>\n",
       "      <th>4</th>\n",
       "      <td>5THICB</td>\n",
       "    </tr>\n",
       "  </tbody>\n",
       "</table>\n",
       "</div>"
      ],
      "text/plain": [
       "  TRADING CODE\n",
       "0    1JANATAMF\n",
       "1   1STPRIMFMF\n",
       "2       3RDICB\n",
       "3       4THICB\n",
       "4       5THICB"
      ]
     },
     "execution_count": 23,
     "metadata": {},
     "output_type": "execute_result"
    }
   ],
   "source": [
    "df_companies.head()"
   ]
  },
  {
   "cell_type": "markdown",
   "metadata": {},
   "source": [
    "### Data selection and clean up\n",
    "\n",
    "We will select here one single company to predict their closing price."
   ]
  },
  {
   "cell_type": "code",
   "execution_count": 24,
   "metadata": {},
   "outputs": [],
   "source": [
    "df = df[df['TRADING CODE'] == 'BRACBANK']"
   ]
  },
  {
   "cell_type": "code",
   "execution_count": 25,
   "metadata": {},
   "outputs": [
    {
     "data": {
      "text/plain": [
       "(651, 11)"
      ]
     },
     "execution_count": 25,
     "metadata": {},
     "output_type": "execute_result"
    }
   ],
   "source": [
    "df.shape"
   ]
  },
  {
   "cell_type": "code",
   "execution_count": 26,
   "metadata": {},
   "outputs": [
    {
     "data": {
      "text/html": [
       "<div>\n",
       "<style>\n",
       "    .dataframe thead tr:only-child th {\n",
       "        text-align: right;\n",
       "    }\n",
       "\n",
       "    .dataframe thead th {\n",
       "        text-align: left;\n",
       "    }\n",
       "\n",
       "    .dataframe tbody tr th {\n",
       "        vertical-align: top;\n",
       "    }\n",
       "</style>\n",
       "<table border=\"1\" class=\"dataframe\">\n",
       "  <thead>\n",
       "    <tr style=\"text-align: right;\">\n",
       "      <th></th>\n",
       "      <th>DATE</th>\n",
       "      <th>TRADING CODE</th>\n",
       "      <th>LTP</th>\n",
       "      <th>HIGH</th>\n",
       "      <th>LOW</th>\n",
       "      <th>OPENP</th>\n",
       "      <th>CLOSEP</th>\n",
       "      <th>YCP</th>\n",
       "      <th>TRADE</th>\n",
       "      <th>VALUE_MN</th>\n",
       "      <th>VOLUME_MN</th>\n",
       "    </tr>\n",
       "  </thead>\n",
       "  <tbody>\n",
       "    <tr>\n",
       "      <th>13659</th>\n",
       "      <td>2016-12-29</td>\n",
       "      <td>BRACBANK</td>\n",
       "      <td>64.0</td>\n",
       "      <td>64.3</td>\n",
       "      <td>63.9</td>\n",
       "      <td>64.2</td>\n",
       "      <td>64.1</td>\n",
       "      <td>64.2</td>\n",
       "      <td>395</td>\n",
       "      <td>73.923</td>\n",
       "      <td>1152870</td>\n",
       "    </tr>\n",
       "    <tr>\n",
       "      <th>13660</th>\n",
       "      <td>2016-12-28</td>\n",
       "      <td>BRACBANK</td>\n",
       "      <td>64.3</td>\n",
       "      <td>64.8</td>\n",
       "      <td>64.0</td>\n",
       "      <td>64.3</td>\n",
       "      <td>64.2</td>\n",
       "      <td>64.3</td>\n",
       "      <td>335</td>\n",
       "      <td>81.314</td>\n",
       "      <td>1266000</td>\n",
       "    </tr>\n",
       "    <tr>\n",
       "      <th>13661</th>\n",
       "      <td>2016-12-27</td>\n",
       "      <td>BRACBANK</td>\n",
       "      <td>64.5</td>\n",
       "      <td>64.8</td>\n",
       "      <td>64.3</td>\n",
       "      <td>64.3</td>\n",
       "      <td>64.3</td>\n",
       "      <td>64.3</td>\n",
       "      <td>256</td>\n",
       "      <td>31.864</td>\n",
       "      <td>494156</td>\n",
       "    </tr>\n",
       "    <tr>\n",
       "      <th>13662</th>\n",
       "      <td>2016-12-26</td>\n",
       "      <td>BRACBANK</td>\n",
       "      <td>64.2</td>\n",
       "      <td>64.5</td>\n",
       "      <td>63.9</td>\n",
       "      <td>63.9</td>\n",
       "      <td>64.3</td>\n",
       "      <td>64.5</td>\n",
       "      <td>220</td>\n",
       "      <td>36.809</td>\n",
       "      <td>572591</td>\n",
       "    </tr>\n",
       "    <tr>\n",
       "      <th>13663</th>\n",
       "      <td>2016-12-22</td>\n",
       "      <td>BRACBANK</td>\n",
       "      <td>64.8</td>\n",
       "      <td>64.9</td>\n",
       "      <td>64.1</td>\n",
       "      <td>64.9</td>\n",
       "      <td>64.5</td>\n",
       "      <td>64.9</td>\n",
       "      <td>276</td>\n",
       "      <td>39.014</td>\n",
       "      <td>603809</td>\n",
       "    </tr>\n",
       "  </tbody>\n",
       "</table>\n",
       "</div>"
      ],
      "text/plain": [
       "             DATE TRADING CODE   LTP  HIGH   LOW  OPENP  CLOSEP   YCP  TRADE  \\\n",
       "13659  2016-12-29     BRACBANK  64.0  64.3  63.9   64.2    64.1  64.2    395   \n",
       "13660  2016-12-28     BRACBANK  64.3  64.8  64.0   64.3    64.2  64.3    335   \n",
       "13661  2016-12-27     BRACBANK  64.5  64.8  64.3   64.3    64.3  64.3    256   \n",
       "13662  2016-12-26     BRACBANK  64.2  64.5  63.9   63.9    64.3  64.5    220   \n",
       "13663  2016-12-22     BRACBANK  64.8  64.9  64.1   64.9    64.5  64.9    276   \n",
       "\n",
       "       VALUE_MN  VOLUME_MN  \n",
       "13659    73.923    1152870  \n",
       "13660    81.314    1266000  \n",
       "13661    31.864     494156  \n",
       "13662    36.809     572591  \n",
       "13663    39.014     603809  "
      ]
     },
     "execution_count": 26,
     "metadata": {},
     "output_type": "execute_result"
    }
   ],
   "source": [
    "df.head()"
   ]
  },
  {
   "cell_type": "markdown",
   "metadata": {},
   "source": [
    "Convert the `DATE` column into datetime format, sort the values by datetime and then set this as index."
   ]
  },
  {
   "cell_type": "code",
   "execution_count": 27,
   "metadata": {},
   "outputs": [],
   "source": [
    "df['DATE'] = pd.to_datetime(df['DATE'], format='%Y-%m-%d')\n",
    "df.sort_values('DATE', inplace=True)\n",
    "df.set_index('DATE', inplace=True)"
   ]
  },
  {
   "cell_type": "code",
   "execution_count": 28,
   "metadata": {},
   "outputs": [
    {
     "data": {
      "text/html": [
       "<div>\n",
       "<style>\n",
       "    .dataframe thead tr:only-child th {\n",
       "        text-align: right;\n",
       "    }\n",
       "\n",
       "    .dataframe thead th {\n",
       "        text-align: left;\n",
       "    }\n",
       "\n",
       "    .dataframe tbody tr th {\n",
       "        vertical-align: top;\n",
       "    }\n",
       "</style>\n",
       "<table border=\"1\" class=\"dataframe\">\n",
       "  <thead>\n",
       "    <tr style=\"text-align: right;\">\n",
       "      <th></th>\n",
       "      <th>TRADING CODE</th>\n",
       "      <th>LTP</th>\n",
       "      <th>HIGH</th>\n",
       "      <th>LOW</th>\n",
       "      <th>OPENP</th>\n",
       "      <th>CLOSEP</th>\n",
       "      <th>YCP</th>\n",
       "      <th>TRADE</th>\n",
       "      <th>VALUE_MN</th>\n",
       "      <th>VOLUME_MN</th>\n",
       "    </tr>\n",
       "    <tr>\n",
       "      <th>DATE</th>\n",
       "      <th></th>\n",
       "      <th></th>\n",
       "      <th></th>\n",
       "      <th></th>\n",
       "      <th></th>\n",
       "      <th></th>\n",
       "      <th></th>\n",
       "      <th></th>\n",
       "      <th></th>\n",
       "      <th></th>\n",
       "    </tr>\n",
       "  </thead>\n",
       "  <tbody>\n",
       "    <tr>\n",
       "      <th>2016-01-03</th>\n",
       "      <td>BRACBANK</td>\n",
       "      <td>48.5</td>\n",
       "      <td>49.8</td>\n",
       "      <td>48.5</td>\n",
       "      <td>49.8</td>\n",
       "      <td>48.5</td>\n",
       "      <td>48.7</td>\n",
       "      <td>115</td>\n",
       "      <td>6.511</td>\n",
       "      <td>134072</td>\n",
       "    </tr>\n",
       "    <tr>\n",
       "      <th>2016-01-04</th>\n",
       "      <td>BRACBANK</td>\n",
       "      <td>48.3</td>\n",
       "      <td>48.5</td>\n",
       "      <td>47.5</td>\n",
       "      <td>48.5</td>\n",
       "      <td>48.0</td>\n",
       "      <td>48.5</td>\n",
       "      <td>99</td>\n",
       "      <td>12.686</td>\n",
       "      <td>264322</td>\n",
       "    </tr>\n",
       "    <tr>\n",
       "      <th>2016-01-05</th>\n",
       "      <td>BRACBANK</td>\n",
       "      <td>48.1</td>\n",
       "      <td>48.5</td>\n",
       "      <td>47.5</td>\n",
       "      <td>47.5</td>\n",
       "      <td>48.1</td>\n",
       "      <td>48.0</td>\n",
       "      <td>135</td>\n",
       "      <td>8.443</td>\n",
       "      <td>175746</td>\n",
       "    </tr>\n",
       "    <tr>\n",
       "      <th>2016-01-06</th>\n",
       "      <td>BRACBANK</td>\n",
       "      <td>47.5</td>\n",
       "      <td>48.4</td>\n",
       "      <td>47.1</td>\n",
       "      <td>48.0</td>\n",
       "      <td>47.3</td>\n",
       "      <td>48.1</td>\n",
       "      <td>190</td>\n",
       "      <td>10.302</td>\n",
       "      <td>216460</td>\n",
       "    </tr>\n",
       "    <tr>\n",
       "      <th>2016-01-07</th>\n",
       "      <td>BRACBANK</td>\n",
       "      <td>47.5</td>\n",
       "      <td>47.7</td>\n",
       "      <td>47.1</td>\n",
       "      <td>47.2</td>\n",
       "      <td>47.5</td>\n",
       "      <td>47.3</td>\n",
       "      <td>193</td>\n",
       "      <td>23.958</td>\n",
       "      <td>504788</td>\n",
       "    </tr>\n",
       "  </tbody>\n",
       "</table>\n",
       "</div>"
      ],
      "text/plain": [
       "           TRADING CODE   LTP  HIGH   LOW  OPENP  CLOSEP   YCP  TRADE  \\\n",
       "DATE                                                                    \n",
       "2016-01-03     BRACBANK  48.5  49.8  48.5   49.8    48.5  48.7    115   \n",
       "2016-01-04     BRACBANK  48.3  48.5  47.5   48.5    48.0  48.5     99   \n",
       "2016-01-05     BRACBANK  48.1  48.5  47.5   47.5    48.1  48.0    135   \n",
       "2016-01-06     BRACBANK  47.5  48.4  47.1   48.0    47.3  48.1    190   \n",
       "2016-01-07     BRACBANK  47.5  47.7  47.1   47.2    47.5  47.3    193   \n",
       "\n",
       "            VALUE_MN  VOLUME_MN  \n",
       "DATE                             \n",
       "2016-01-03     6.511     134072  \n",
       "2016-01-04    12.686     264322  \n",
       "2016-01-05     8.443     175746  \n",
       "2016-01-06    10.302     216460  \n",
       "2016-01-07    23.958     504788  "
      ]
     },
     "execution_count": 28,
     "metadata": {},
     "output_type": "execute_result"
    }
   ],
   "source": [
    "df.head()"
   ]
  },
  {
   "cell_type": "markdown",
   "metadata": {},
   "source": [
    "Lets check out some data rows"
   ]
  },
  {
   "cell_type": "code",
   "execution_count": 29,
   "metadata": {},
   "outputs": [
    {
     "data": {
      "text/plain": [
       "[<matplotlib.lines.Line2D at 0x1ac0390f0>]"
      ]
     },
     "execution_count": 29,
     "metadata": {},
     "output_type": "execute_result"
    },
    {
     "data": {
      "image/png": "[encoded data removed]",
      "text/plain": [
       "<Figure size 432x288 with 1 Axes>"
      ]
     },
     "metadata": {},
     "output_type": "display_data"
    }
   ],
   "source": [
    "plt.plot(df['LTP'])"
   ]
  },
  {
   "cell_type": "code",
   "execution_count": 30,
   "metadata": {},
   "outputs": [
    {
     "data": {
      "text/plain": [
       "[<matplotlib.lines.Line2D at 0x1ac00ac18>]"
      ]
     },
     "execution_count": 30,
     "metadata": {},
     "output_type": "execute_result"
    },
    {
     "data": {
      "image/png": "[encoded data removed]",
      "text/plain": [
       "<Figure size 432x288 with 1 Axes>"
      ]
     },
     "metadata": {},
     "output_type": "display_data"
    }
   ],
   "source": [
    "plt.plot(df['HIGH'])"
   ]
  },
  {
   "cell_type": "code",
   "execution_count": 31,
   "metadata": {},
   "outputs": [
    {
     "data": {
      "text/plain": [
       "[<matplotlib.lines.Line2D at 0x1b9b0ce80>]"
      ]
     },
     "execution_count": 31,
     "metadata": {},
     "output_type": "execute_result"
    },
    {
     "data": {
      "image/png": "[encoded data removed]",
      "text/plain": [
       "<Figure size 432x288 with 1 Axes>"
      ]
     },
     "metadata": {},
     "output_type": "display_data"
    }
   ],
   "source": [
    "plt.plot(df['LOW'])"
   ]
  },
  {
   "cell_type": "code",
   "execution_count": 201,
   "metadata": {},
   "outputs": [
    {
     "data": {
      "text/plain": [
       "[<matplotlib.lines.Line2D at 0x1b7c8a048>]"
      ]
     },
     "execution_count": 201,
     "metadata": {},
     "output_type": "execute_result"
    },
    {
     "data": {
      "image/png": "[encoded data removed]",
      "text/plain": [
       "<Figure size 432x288 with 1 Axes>"
      ]
     },
     "metadata": {},
     "output_type": "display_data"
    }
   ],
   "source": [
    "plt.plot(df['CLOSEP'])"
   ]
  },
  {
   "cell_type": "markdown",
   "metadata": {},
   "source": [
    "### Data selection and processing"
   ]
  },
  {
   "cell_type": "raw",
   "metadata": {},
   "source": [
    "Drop all unnecessary columns. We will only consider the closing price (CLOSEP). "
   ]
  },
  {
   "cell_type": "code",
   "execution_count": 33,
   "metadata": {},
   "outputs": [],
   "source": [
    "df = df[['CLOSEP']]"
   ]
  },
  {
   "cell_type": "code",
   "execution_count": 34,
   "metadata": {},
   "outputs": [
    {
     "data": {
      "text/html": [
       "<div>\n",
       "<style>\n",
       "    .dataframe thead tr:only-child th {\n",
       "        text-align: right;\n",
       "    }\n",
       "\n",
       "    .dataframe thead th {\n",
       "        text-align: left;\n",
       "    }\n",
       "\n",
       "    .dataframe tbody tr th {\n",
       "        vertical-align: top;\n",
       "    }\n",
       "</style>\n",
       "<table border=\"1\" class=\"dataframe\">\n",
       "  <thead>\n",
       "    <tr style=\"text-align: right;\">\n",
       "      <th></th>\n",
       "      <th>CLOSEP</th>\n",
       "    </tr>\n",
       "    <tr>\n",
       "      <th>DATE</th>\n",
       "      <th></th>\n",
       "    </tr>\n",
       "  </thead>\n",
       "  <tbody>\n",
       "    <tr>\n",
       "      <th>2016-01-03</th>\n",
       "      <td>48.5</td>\n",
       "    </tr>\n",
       "    <tr>\n",
       "      <th>2016-01-04</th>\n",
       "      <td>48.0</td>\n",
       "    </tr>\n",
       "    <tr>\n",
       "      <th>2016-01-05</th>\n",
       "      <td>48.1</td>\n",
       "    </tr>\n",
       "    <tr>\n",
       "      <th>2016-01-06</th>\n",
       "      <td>47.3</td>\n",
       "    </tr>\n",
       "    <tr>\n",
       "      <th>2016-01-07</th>\n",
       "      <td>47.5</td>\n",
       "    </tr>\n",
       "  </tbody>\n",
       "</table>\n",
       "</div>"
      ],
      "text/plain": [
       "            CLOSEP\n",
       "DATE              \n",
       "2016-01-03    48.5\n",
       "2016-01-04    48.0\n",
       "2016-01-05    48.1\n",
       "2016-01-06    47.3\n",
       "2016-01-07    47.5"
      ]
     },
     "execution_count": 34,
     "metadata": {},
     "output_type": "execute_result"
    }
   ],
   "source": [
    "df.head()"
   ]
  },
  {
   "cell_type": "markdown",
   "metadata": {},
   "source": [
    "The dataset has observation for each day. We want to predict the close price for next day. Hence we will shift the data 1 day in the future."
   ]
  },
  {
   "cell_type": "code",
   "execution_count": 35,
   "metadata": {},
   "outputs": [],
   "source": [
    "shift_steps = 1 # by day"
   ]
  },
  {
   "cell_type": "code",
   "execution_count": 36,
   "metadata": {},
   "outputs": [],
   "source": [
    "df_shifted = df.shift(-shift_steps)"
   ]
  },
  {
   "cell_type": "code",
   "execution_count": 37,
   "metadata": {},
   "outputs": [
    {
     "data": {
      "text/html": [
       "<div>\n",
       "<style>\n",
       "    .dataframe thead tr:only-child th {\n",
       "        text-align: right;\n",
       "    }\n",
       "\n",
       "    .dataframe thead th {\n",
       "        text-align: left;\n",
       "    }\n",
       "\n",
       "    .dataframe tbody tr th {\n",
       "        vertical-align: top;\n",
       "    }\n",
       "</style>\n",
       "<table border=\"1\" class=\"dataframe\">\n",
       "  <thead>\n",
       "    <tr style=\"text-align: right;\">\n",
       "      <th></th>\n",
       "      <th>CLOSEP</th>\n",
       "    </tr>\n",
       "    <tr>\n",
       "      <th>DATE</th>\n",
       "      <th></th>\n",
       "    </tr>\n",
       "  </thead>\n",
       "  <tbody>\n",
       "    <tr>\n",
       "      <th>2016-01-03</th>\n",
       "      <td>48.0</td>\n",
       "    </tr>\n",
       "    <tr>\n",
       "      <th>2016-01-04</th>\n",
       "      <td>48.1</td>\n",
       "    </tr>\n",
       "    <tr>\n",
       "      <th>2016-01-05</th>\n",
       "      <td>47.3</td>\n",
       "    </tr>\n",
       "    <tr>\n",
       "      <th>2016-01-06</th>\n",
       "      <td>47.5</td>\n",
       "    </tr>\n",
       "    <tr>\n",
       "      <th>2016-01-07</th>\n",
       "      <td>47.4</td>\n",
       "    </tr>\n",
       "  </tbody>\n",
       "</table>\n",
       "</div>"
      ],
      "text/plain": [
       "            CLOSEP\n",
       "DATE              \n",
       "2016-01-03    48.0\n",
       "2016-01-04    48.1\n",
       "2016-01-05    47.3\n",
       "2016-01-06    47.5\n",
       "2016-01-07    47.4"
      ]
     },
     "execution_count": 37,
     "metadata": {},
     "output_type": "execute_result"
    }
   ],
   "source": [
    "df_shifted.head()"
   ]
  },
  {
   "cell_type": "code",
   "execution_count": 202,
   "metadata": {},
   "outputs": [
    {
     "data": {
      "text/html": [
       "<div>\n",
       "<style>\n",
       "    .dataframe thead tr:only-child th {\n",
       "        text-align: right;\n",
       "    }\n",
       "\n",
       "    .dataframe thead th {\n",
       "        text-align: left;\n",
       "    }\n",
       "\n",
       "    .dataframe tbody tr th {\n",
       "        vertical-align: top;\n",
       "    }\n",
       "</style>\n",
       "<table border=\"1\" class=\"dataframe\">\n",
       "  <thead>\n",
       "    <tr style=\"text-align: right;\">\n",
       "      <th></th>\n",
       "      <th>CLOSEP</th>\n",
       "    </tr>\n",
       "    <tr>\n",
       "      <th>DATE</th>\n",
       "      <th></th>\n",
       "    </tr>\n",
       "  </thead>\n",
       "  <tbody>\n",
       "    <tr>\n",
       "      <th>2018-09-04</th>\n",
       "      <td>73.9</td>\n",
       "    </tr>\n",
       "    <tr>\n",
       "      <th>2018-09-05</th>\n",
       "      <td>73.6</td>\n",
       "    </tr>\n",
       "    <tr>\n",
       "      <th>2018-09-06</th>\n",
       "      <td>72.9</td>\n",
       "    </tr>\n",
       "    <tr>\n",
       "      <th>2018-09-09</th>\n",
       "      <td>72.2</td>\n",
       "    </tr>\n",
       "    <tr>\n",
       "      <th>2018-09-10</th>\n",
       "      <td>NaN</td>\n",
       "    </tr>\n",
       "  </tbody>\n",
       "</table>\n",
       "</div>"
      ],
      "text/plain": [
       "            CLOSEP\n",
       "DATE              \n",
       "2018-09-04    73.9\n",
       "2018-09-05    73.6\n",
       "2018-09-06    72.9\n",
       "2018-09-09    72.2\n",
       "2018-09-10     NaN"
      ]
     },
     "execution_count": 202,
     "metadata": {},
     "output_type": "execute_result"
    }
   ],
   "source": [
    "df_shifted.tail()"
   ]
  },
  {
   "cell_type": "markdown",
   "metadata": {},
   "source": [
    "As expected, the last row in the `df_shifted` dataframe has value NaN as we shift it upward direction.\n",
    "\n",
    "We will now convert the pandas dataframe into numpy arrays so that it can be input into the neural network. We will not consider the last `shift_steps` number of rows in the original dataframe. Because, in the shifted dataframe, those rows contains NaN. Those NaN will produce errors as they are not valid data. Also, we need to have same shape for input and output data."
   ]
  },
  {
   "cell_type": "code",
   "execution_count": 39,
   "metadata": {},
   "outputs": [
    {
     "data": {
      "text/plain": [
       "((650, 1), (650, 1))"
      ]
     },
     "execution_count": 39,
     "metadata": {},
     "output_type": "execute_result"
    }
   ],
   "source": [
    "target_names = ['CLOSEP']\n",
    "\n",
    "data_train = df.values[0:-shift_steps]\n",
    "data_target = df_shifted.values[0:-shift_steps]\n",
    "\n",
    "data_train.shape, data_target.shape"
   ]
  },
  {
   "cell_type": "code",
   "execution_count": 40,
   "metadata": {},
   "outputs": [
    {
     "data": {
      "text/plain": [
       "((585, 1), (585, 1), (65, 1), (65, 1))"
      ]
     },
     "execution_count": 40,
     "metadata": {},
     "output_type": "execute_result"
    }
   ],
   "source": [
    "# Number of observations\n",
    "num_data = len(data_train)\n",
    "\n",
    "# Percentage of dataset that will be used for training\n",
    "train_split = 0.9\n",
    "\n",
    "# Number of observations in the training set\n",
    "num_train = int(train_split * num_data)\n",
    "\n",
    "# Number of observation in the test set\n",
    "num_test = num_data - num_train\n",
    "\n",
    "# Samples for train and test dataset\n",
    "X_train_orig = data_train[0:num_train]\n",
    "X_test_orig = data_train[num_train:]\n",
    "\n",
    "y_train_orig = data_target[0:num_train]\n",
    "y_test_orig = data_target[num_train:]\n",
    "\n",
    "X_train_orig.shape, y_train_orig.shape, X_test_orig.shape, y_test_orig.shape"
   ]
  },
  {
   "cell_type": "code",
   "execution_count": 41,
   "metadata": {},
   "outputs": [
    {
     "data": {
      "text/plain": [
       "(1, 1)"
      ]
     },
     "execution_count": 41,
     "metadata": {},
     "output_type": "execute_result"
    }
   ],
   "source": [
    "# number of input values\n",
    "# 2, one for temperature and \n",
    "# another for humidity\n",
    "# TODO should be input_shape\n",
    "input_shape = X_train_orig.shape[1]\n",
    "\n",
    "# number of output values\n",
    "# 2, one for temperature and \n",
    "# another for humidity\n",
    "# TODO should be output_shape\n",
    "output_shape = y_train_orig.shape[1]\n",
    "\n",
    "input_shape, output_shape"
   ]
  },
  {
   "cell_type": "markdown",
   "metadata": {},
   "source": [
    "### Data normalization"
   ]
  },
  {
   "cell_type": "markdown",
   "metadata": {},
   "source": [
    "Lets have a look at the data range before normalization"
   ]
  },
  {
   "cell_type": "code",
   "execution_count": 203,
   "metadata": {},
   "outputs": [
    {
     "name": "stdout",
     "output_type": "stream",
     "text": [
      "Min X_train_orig: 41.4\n",
      "Max X_train_orig: 112.2\n",
      "Min y_train_orig: 41.4\n",
      "Max y_train_orig: 112.2\n",
      "Min X_test_orig: 63.3\n",
      "Max X_test_orig: 78.8\n",
      "Min y_test_orig: 63.3\n",
      "Max y_test_orig: 78.8\n"
     ]
    }
   ],
   "source": [
    "print('Min X_train_orig:', np.min(X_train_orig))\n",
    "print('Max X_train_orig:', np.max(X_train_orig))\n",
    "print('Min y_train_orig:', np.min(y_train_orig))\n",
    "print('Max y_train_orig:', np.max(y_train_orig))\n",
    "print('Min X_test_orig:', np.min(X_test_orig))\n",
    "print('Max X_test_orig:', np.max(X_test_orig))\n",
    "print('Min y_test_orig:', np.min(y_test_orig))\n",
    "print('Max y_test_orig:', np.max(y_test_orig))"
   ]
  },
  {
   "cell_type": "code",
   "execution_count": 204,
   "metadata": {},
   "outputs": [],
   "source": [
    "x_scaler = MinMaxScaler(feature_range=(0, 1))\n",
    "X_train = x_scaler.fit_transform(X_train_orig)\n",
    "X_test = x_scaler.transform(X_test_orig)"
   ]
  },
  {
   "cell_type": "code",
   "execution_count": 205,
   "metadata": {},
   "outputs": [],
   "source": [
    "y_scaler = MinMaxScaler(feature_range=(0, 1))\n",
    "y_train = y_scaler.fit_transform(y_train_orig)\n",
    "y_test = y_scaler.transform(y_test_orig)"
   ]
  },
  {
   "cell_type": "markdown",
   "metadata": {},
   "source": [
    "Data after normaliztion"
   ]
  },
  {
   "cell_type": "code",
   "execution_count": 206,
   "metadata": {},
   "outputs": [
    {
     "name": "stdout",
     "output_type": "stream",
     "text": [
      "Min X_train: 0.0\n",
      "Max X_train: 0.9999999999999999\n",
      "Min y_train: 0.0\n",
      "Max y_train: 0.9999999999999999\n",
      "Min X_test: 0.30932203389830504\n",
      "Max X_test: 0.5282485875706214\n",
      "Min y_test: 0.30932203389830504\n",
      "Max y_test: 0.5282485875706214\n"
     ]
    }
   ],
   "source": [
    "print('Min X_train:', np.min(X_train))\n",
    "print('Max X_train:', np.max(X_train))\n",
    "print('Min y_train:', np.min(y_train))\n",
    "print('Max y_train:', np.max(y_train))\n",
    "print('Min X_test:', np.min(X_test))\n",
    "print('Max X_test:', np.max(X_test))\n",
    "print('Min y_test:', np.min(y_test))\n",
    "print('Max y_test:', np.max(y_test))"
   ]
  },
  {
   "cell_type": "code",
   "execution_count": 207,
   "metadata": {},
   "outputs": [
    {
     "data": {
      "text/plain": [
       "((585, 1), (585, 1), (65, 1), (65, 1))"
      ]
     },
     "execution_count": 207,
     "metadata": {},
     "output_type": "execute_result"
    }
   ],
   "source": [
    "X_train.shape, y_train.shape, X_test.shape, y_test.shape"
   ]
  },
  {
   "cell_type": "markdown",
   "metadata": {},
   "source": [
    "### Train the model\n",
    "\n",
    "The LSTM implementation is inspired by Siraj Raval's youtube video tutorial and the related jupyter notebook here from this [github repo][2].\n",
    "\n",
    "[2]: https://github.com/llSourcell/How-to-Predict-Stock-Prices-Easily-Demo"
   ]
  },
  {
   "cell_type": "code",
   "execution_count": 295,
   "metadata": {},
   "outputs": [],
   "source": [
    "def batch_generator(batch_size, sequence_length):\n",
    "    \"\"\"\n",
    "    Generator function for creating random batches of training-data.\n",
    "    \"\"\"\n",
    "\n",
    "    # Infinite loop.\n",
    "    while True:\n",
    "        # Allocate a new array for the batch of input-signals.\n",
    "        X_shape = (batch_size, sequence_length, input_shape)\n",
    "        X_batch = np.zeros(shape=X_shape, dtype=np.float16)\n",
    "\n",
    "        # Allocate a new array for the batch of output-signals.\n",
    "        y_shape = (batch_size, sequence_length, output_shape)\n",
    "        y_batch = np.zeros(shape=y_shape, dtype=np.float16)\n",
    "\n",
    "        # Fill the batch with random sequences of data.\n",
    "        for i in range(batch_size):\n",
    "            # Get a random start-index.\n",
    "            # This points somewhere into the training-data.\n",
    "            idx = np.random.randint(num_train - sequence_length)\n",
    "            \n",
    "            # Copy the sequences of data starting at this index.\n",
    "            X_batch[i] = X_train[idx:idx+sequence_length]\n",
    "            y_batch[i] = y_train[idx:idx+sequence_length]\n",
    "        \n",
    "        yield (X_batch, y_batch)\n",
    "\n",
    "def plot_comparison(start_idx, length=100, train=True):\n",
    "    \"\"\"\n",
    "    Plot the predicted and true output-signals.\n",
    "    \n",
    "    :param start_idx: Start-index for the time-series.\n",
    "    :param length: Sequence-length to process and plot.\n",
    "    :param train: Boolean whether to use training- or test-set.\n",
    "    \"\"\"\n",
    "    \n",
    "    if train:\n",
    "        # Use training-data.\n",
    "        x = X_train\n",
    "        y_true = y_train_orig\n",
    "    else:\n",
    "        # Use test-data.\n",
    "        x = X_test\n",
    "        y_true = y_test_orig\n",
    "    \n",
    "    # End-index for the sequences.\n",
    "    end_idx = start_idx + length\n",
    "    \n",
    "    # Select the sequences from the given start-index and\n",
    "    # of the given length.\n",
    "    x = x[start_idx:end_idx]\n",
    "    y_true = y_true[start_idx:end_idx]\n",
    "    \n",
    "    # Input-signals for the model.\n",
    "    x = np.expand_dims(x, axis=0)\n",
    "    \n",
    "    # Use the model to predict the output-signals.\n",
    "    y_pred = model.predict(x).reshape(y_true.shape[0], 1)\n",
    "    \n",
    "    # The output of the model is between 0 and 1.\n",
    "    # Do an inverse map to get it back to the scale\n",
    "    # of the original data-set.\n",
    "    y_pred_rescaled = y_scaler.inverse_transform(y_pred)\n",
    "    \n",
    "    warmup_steps = 10\n",
    "    \n",
    "    # For each output-signal.\n",
    "    for signal in range(output_shape):\n",
    "        # Get the output-signal predicted by the model.\n",
    "        signal_pred = y_pred_rescaled[:, signal]\n",
    "        \n",
    "        # Get the true output-signal from the data-set.\n",
    "        signal_true = y_true[:, signal]\n",
    "\n",
    "        # Make the plotting-canvas bigger.\n",
    "        plt.figure(figsize=(15,5))\n",
    "        \n",
    "        # Plot and compare the two signals.\n",
    "        plt.plot(signal_true, label='true')\n",
    "        plt.plot(signal_pred, label='pred')\n",
    "        \n",
    "        # Plot labels etc.\n",
    "        plt.ylabel(target_names[signal])\n",
    "        plt.legend()\n",
    "        plt.show()"
   ]
  },
  {
   "cell_type": "code",
   "execution_count": 208,
   "metadata": {},
   "outputs": [],
   "source": [
    "batch_size = 32\n",
    "sequence_length = 7"
   ]
  },
  {
   "cell_type": "code",
   "execution_count": 209,
   "metadata": {},
   "outputs": [],
   "source": [
    "# Create the batch generator\n",
    "generator = batch_generator(batch_size=batch_size, sequence_length=sequence_length)"
   ]
  },
  {
   "cell_type": "code",
   "execution_count": 210,
   "metadata": {},
   "outputs": [],
   "source": [
    "validation_data = (np.expand_dims(X_test, axis=0),\n",
    "                   np.expand_dims(y_test, axis=0))"
   ]
  },
  {
   "cell_type": "code",
   "execution_count": 271,
   "metadata": {},
   "outputs": [],
   "source": [
    "model = Sequential()"
   ]
  },
  {
   "cell_type": "code",
   "execution_count": 272,
   "metadata": {},
   "outputs": [],
   "source": [
    "model.add(LSTM(units=50, return_sequences=True, input_shape=(None, input_shape,)))"
   ]
  },
  {
   "cell_type": "code",
   "execution_count": 273,
   "metadata": {},
   "outputs": [],
   "source": [
    "model.add(LSTM(units=100, return_sequences=True, input_shape=(None, input_shape,)))"
   ]
  },
  {
   "cell_type": "code",
   "execution_count": 274,
   "metadata": {},
   "outputs": [],
   "source": [
    "model.add(Dense(output_shape, activation='sigmoid'))"
   ]
  },
  {
   "cell_type": "code",
   "execution_count": 276,
   "metadata": {},
   "outputs": [],
   "source": [
    "# We then compile the Keras model so it is ready for training.\n",
    "model.compile(loss='mse', optimizer='rmsprop')"
   ]
  },
  {
   "cell_type": "code",
   "execution_count": 277,
   "metadata": {},
   "outputs": [
    {
     "name": "stdout",
     "output_type": "stream",
     "text": [
      "_________________________________________________________________\n",
      "Layer (type)                 Output Shape              Param #   \n",
      "=================================================================\n",
      "lstm_14 (LSTM)               (None, None, 50)          10400     \n",
      "_________________________________________________________________\n",
      "lstm_15 (LSTM)               (None, None, 100)         60400     \n",
      "_________________________________________________________________\n",
      "dense_9 (Dense)              (None, None, 1)           101       \n",
      "=================================================================\n",
      "Total params: 70,901\n",
      "Trainable params: 70,901\n",
      "Non-trainable params: 0\n",
      "_________________________________________________________________\n"
     ]
    }
   ],
   "source": [
    "model.summary()"
   ]
  },
  {
   "cell_type": "code",
   "execution_count": 278,
   "metadata": {},
   "outputs": [],
   "source": [
    "path_checkpoint = 'checkpoint_1.keras'\n",
    "callback_checkpoint = ModelCheckpoint(filepath=path_checkpoint,\n",
    "                                      monitor='val_loss',\n",
    "                                      verbose=1,\n",
    "                                      save_weights_only=True,\n",
    "                                      save_best_only=True)"
   ]
  },
  {
   "cell_type": "code",
   "execution_count": 279,
   "metadata": {},
   "outputs": [],
   "source": [
    "# This is the callback for stopping the optimization when performance worsens on the validation-set.\n",
    "callback_early_stopping = EarlyStopping(monitor='val_loss',\n",
    "                                        patience=5, verbose=1)"
   ]
  },
  {
   "cell_type": "code",
   "execution_count": 280,
   "metadata": {},
   "outputs": [],
   "source": [
    "# This is the callback for writing the TensorBoard log during training.\n",
    "callback_tensorboard = TensorBoard(log_dir='logs/',\n",
    "                                   histogram_freq=0,\n",
    "                                   write_graph=False)"
   ]
  },
  {
   "cell_type": "code",
   "execution_count": 282,
   "metadata": {},
   "outputs": [],
   "source": [
    "callbacks = [callback_early_stopping,\n",
    "             callback_checkpoint,\n",
    "             callback_tensorboard]"
   ]
  },
  {
   "cell_type": "code",
   "execution_count": 283,
   "metadata": {},
   "outputs": [
    {
     "name": "stdout",
     "output_type": "stream",
     "text": [
      "CPU times: user 2 µs, sys: 1e+03 ns, total: 3 µs\n",
      "Wall time: 6.2 µs\n",
      "Epoch 1/20\n",
      " 95/100 [===========================>..] - ETA: 0s - loss: 0.0288\n",
      "Epoch 00001: val_loss improved from inf to 0.00528, saving model to checkpoint_1.keras\n",
      "100/100 [==============================] - 6s 60ms/step - loss: 0.0280 - val_loss: 0.0053\n",
      "Epoch 2/20\n",
      " 95/100 [===========================>..] - ETA: 0s - loss: 0.0064\n",
      "Epoch 00002: val_loss improved from 0.00528 to 0.00189, saving model to checkpoint_1.keras\n",
      "100/100 [==============================] - 1s 13ms/step - loss: 0.0062 - val_loss: 0.0019\n",
      "Epoch 3/20\n",
      " 98/100 [============================>.] - ETA: 0s - loss: 0.0016\n",
      "Epoch 00003: val_loss improved from 0.00189 to 0.00075, saving model to checkpoint_1.keras\n",
      "100/100 [==============================] - 1s 13ms/step - loss: 0.0016 - val_loss: 7.4703e-04\n",
      "Epoch 4/20\n",
      " 96/100 [===========================>..] - ETA: 0s - loss: 0.0011\n",
      "Epoch 00004: val_loss did not improve from 0.00075\n",
      "100/100 [==============================] - 1s 13ms/step - loss: 0.0011 - val_loss: 9.0227e-04\n",
      "Epoch 5/20\n",
      " 99/100 [============================>.] - ETA: 0s - loss: 0.0011\n",
      "Epoch 00005: val_loss did not improve from 0.00075\n",
      "100/100 [==============================] - 1s 13ms/step - loss: 0.0011 - val_loss: 8.6691e-04\n",
      "Epoch 6/20\n",
      " 96/100 [===========================>..] - ETA: 0s - loss: 9.8992e-04\n",
      "Epoch 00006: val_loss did not improve from 0.00075\n",
      "100/100 [==============================] - 1s 14ms/step - loss: 9.8662e-04 - val_loss: 9.5080e-04\n",
      "Epoch 7/20\n",
      " 99/100 [============================>.] - ETA: 0s - loss: 9.8407e-04\n",
      "Epoch 00007: val_loss did not improve from 0.00075\n",
      "100/100 [==============================] - 1s 13ms/step - loss: 9.8270e-04 - val_loss: 0.0012\n",
      "Epoch 8/20\n",
      " 96/100 [===========================>..] - ETA: 0s - loss: 9.2409e-04\n",
      "Epoch 00008: val_loss did not improve from 0.00075\n",
      "100/100 [==============================] - 1s 13ms/step - loss: 9.2007e-04 - val_loss: 8.3079e-04\n",
      "Epoch 00008: early stopping\n"
     ]
    }
   ],
   "source": [
    "# The main training process, when need to train a new \n",
    "# model, change if condition to True\n",
    "if True:\n",
    "    %%time\n",
    "    model.fit_generator(generator=generator,\n",
    "                        epochs=20,\n",
    "                        steps_per_epoch=100,\n",
    "                        validation_data=validation_data,\n",
    "                        callbacks=callbacks)"
   ]
  },
  {
   "cell_type": "code",
   "execution_count": 284,
   "metadata": {},
   "outputs": [],
   "source": [
    "try:\n",
    "    model.load_weights(path_checkpoint)\n",
    "except Exception as error:\n",
    "    print(\"Error trying to load checkpoint.\")\n",
    "    print(error)"
   ]
  },
  {
   "cell_type": "code",
   "execution_count": 285,
   "metadata": {},
   "outputs": [
    {
     "name": "stdout",
     "output_type": "stream",
     "text": [
      "\r",
      "1/1 [==============================] - 0s 18ms/step\n"
     ]
    }
   ],
   "source": [
    "result = model.evaluate(x=np.expand_dims(X_test, axis=0),\n",
    "                        y=np.expand_dims(y_test, axis=0))"
   ]
  },
  {
   "cell_type": "code",
   "execution_count": 286,
   "metadata": {},
   "outputs": [
    {
     "name": "stdout",
     "output_type": "stream",
     "text": [
      "loss (test-set): 0.0007470314158126712\n"
     ]
    }
   ],
   "source": [
    "print(\"loss (test-set):\", result)"
   ]
  },
  {
   "cell_type": "code",
   "execution_count": 296,
   "metadata": {},
   "outputs": [
    {
     "data": {
      "image/png": "[encoded data removed]",
      "text/plain": [
       "<Figure size 1080x360 with 1 Axes>"
      ]
     },
     "metadata": {},
     "output_type": "display_data"
    }
   ],
   "source": [
    "plot_comparison(start_idx=0, length=650, train=True)"
   ]
  },
  {
   "cell_type": "code",
   "execution_count": 297,
   "metadata": {},
   "outputs": [
    {
     "data": {
      "image/png": "[encoded data removed]",
      "text/plain": [
       "<Figure size 1080x360 with 1 Axes>"
      ]
     },
     "metadata": {},
     "output_type": "display_data"
    }
   ],
   "source": [
    "plot_comparison(start_idx=0, length=65, train=False)"
   ]
  },
  {
   "cell_type": "markdown",
   "metadata": {},
   "source": [
    "Looking at the graphs above, we can see that during the beginning of training, the output was not very good. But after 200th data sequence, it started to get better. Arond the end, it gets really better. Also, when we tested the model using test data, the prediction looks promising."
   ]
  },
  {
   "cell_type": "code",
   "execution_count": null,
   "metadata": {},
   "outputs": [],
   "source": []
  }
 ],
 "metadata": {
  "kernelspec": {
   "display_name": "Python 3",
   "language": "python",
   "name": "python3"
  },
  "language_info": {
   "codemirror_mode": {
    "name": "ipython",
    "version": 3
   },
   "file_extension": ".py",
   "mimetype": "text/x-python",
   "name": "python",
   "nbconvert_exporter": "python",
   "pygments_lexer": "ipython3",
   "version": "3.6.3"
  }
 },
 "nbformat": 4,
 "nbformat_minor": 2
}
